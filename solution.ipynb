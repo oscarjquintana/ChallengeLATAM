{
 "cells": [
  {
   "cell_type": "markdown",
   "metadata": {},
   "source": [
    "### DS Challenge LATAM Airlines\n",
    "\n",
    "##### 0. Carga de paquetes, lectura de datos y procesamiento básico"
   ]
  },
  {
   "cell_type": "code",
   "execution_count": 1,
   "metadata": {},
   "outputs": [],
   "source": [
    "#Paquetes a utilizar\n",
    "import pandas as pd\n",
    "import matplotlib.pyplot as plt\n",
    "import seaborn as sns"
   ]
  },
  {
   "cell_type": "code",
   "execution_count": 2,
   "metadata": {},
   "outputs": [
    {
     "name": "stderr",
     "output_type": "stream",
     "text": [
      "C:\\Users\\oscar\\AppData\\Local\\Temp\\ipykernel_12384\\553996775.py:2: DtypeWarning: Columns (1,6) have mixed types. Specify dtype option on import or set low_memory=False.\n",
      "  df = pd.read_csv('dataset_SCL.csv')\n"
     ]
    }
   ],
   "source": [
    "#Lee datos y los inserta en un df\n",
    "df = pd.read_csv('dataset_SCL.csv')"
   ]
  },
  {
   "cell_type": "code",
   "execution_count": 15,
   "metadata": {},
   "outputs": [
    {
     "data": {
      "text/html": [
       "<div>\n",
       "<style scoped>\n",
       "    .dataframe tbody tr th:only-of-type {\n",
       "        vertical-align: middle;\n",
       "    }\n",
       "\n",
       "    .dataframe tbody tr th {\n",
       "        vertical-align: top;\n",
       "    }\n",
       "\n",
       "    .dataframe thead th {\n",
       "        text-align: right;\n",
       "    }\n",
       "</style>\n",
       "<table border=\"1\" class=\"dataframe\">\n",
       "  <thead>\n",
       "    <tr style=\"text-align: right;\">\n",
       "      <th></th>\n",
       "      <th>Fecha-I</th>\n",
       "      <th>Vlo-I</th>\n",
       "      <th>Ori-I</th>\n",
       "      <th>Des-I</th>\n",
       "      <th>Emp-I</th>\n",
       "      <th>Fecha-O</th>\n",
       "      <th>Vlo-O</th>\n",
       "      <th>Ori-O</th>\n",
       "      <th>Des-O</th>\n",
       "      <th>Emp-O</th>\n",
       "      <th>DIA</th>\n",
       "      <th>MES</th>\n",
       "      <th>AÑO</th>\n",
       "      <th>DIANOM</th>\n",
       "      <th>TIPOVUELO</th>\n",
       "      <th>OPERA</th>\n",
       "      <th>SIGLAORI</th>\n",
       "      <th>SIGLADES</th>\n",
       "      <th>fecha_d</th>\n",
       "      <th>one</th>\n",
       "    </tr>\n",
       "  </thead>\n",
       "  <tbody>\n",
       "    <tr>\n",
       "      <th>0</th>\n",
       "      <td>2017-01-01 23:30:00</td>\n",
       "      <td>226</td>\n",
       "      <td>SCEL</td>\n",
       "      <td>KMIA</td>\n",
       "      <td>AAL</td>\n",
       "      <td>2017-01-01 23:33:00</td>\n",
       "      <td>226</td>\n",
       "      <td>SCEL</td>\n",
       "      <td>KMIA</td>\n",
       "      <td>AAL</td>\n",
       "      <td>1</td>\n",
       "      <td>1</td>\n",
       "      <td>2017</td>\n",
       "      <td>Domingo</td>\n",
       "      <td>I</td>\n",
       "      <td>American Airlines</td>\n",
       "      <td>Santiago</td>\n",
       "      <td>Miami</td>\n",
       "      <td>2017-01-01</td>\n",
       "      <td>1</td>\n",
       "    </tr>\n",
       "    <tr>\n",
       "      <th>1</th>\n",
       "      <td>2017-01-02 23:30:00</td>\n",
       "      <td>226</td>\n",
       "      <td>SCEL</td>\n",
       "      <td>KMIA</td>\n",
       "      <td>AAL</td>\n",
       "      <td>2017-01-02 23:39:00</td>\n",
       "      <td>226</td>\n",
       "      <td>SCEL</td>\n",
       "      <td>KMIA</td>\n",
       "      <td>AAL</td>\n",
       "      <td>2</td>\n",
       "      <td>1</td>\n",
       "      <td>2017</td>\n",
       "      <td>Lunes</td>\n",
       "      <td>I</td>\n",
       "      <td>American Airlines</td>\n",
       "      <td>Santiago</td>\n",
       "      <td>Miami</td>\n",
       "      <td>2017-01-02</td>\n",
       "      <td>1</td>\n",
       "    </tr>\n",
       "    <tr>\n",
       "      <th>2</th>\n",
       "      <td>2017-01-03 23:30:00</td>\n",
       "      <td>226</td>\n",
       "      <td>SCEL</td>\n",
       "      <td>KMIA</td>\n",
       "      <td>AAL</td>\n",
       "      <td>2017-01-03 23:39:00</td>\n",
       "      <td>226</td>\n",
       "      <td>SCEL</td>\n",
       "      <td>KMIA</td>\n",
       "      <td>AAL</td>\n",
       "      <td>3</td>\n",
       "      <td>1</td>\n",
       "      <td>2017</td>\n",
       "      <td>Martes</td>\n",
       "      <td>I</td>\n",
       "      <td>American Airlines</td>\n",
       "      <td>Santiago</td>\n",
       "      <td>Miami</td>\n",
       "      <td>2017-01-03</td>\n",
       "      <td>1</td>\n",
       "    </tr>\n",
       "    <tr>\n",
       "      <th>3</th>\n",
       "      <td>2017-01-04 23:30:00</td>\n",
       "      <td>226</td>\n",
       "      <td>SCEL</td>\n",
       "      <td>KMIA</td>\n",
       "      <td>AAL</td>\n",
       "      <td>2017-01-04 23:33:00</td>\n",
       "      <td>226</td>\n",
       "      <td>SCEL</td>\n",
       "      <td>KMIA</td>\n",
       "      <td>AAL</td>\n",
       "      <td>4</td>\n",
       "      <td>1</td>\n",
       "      <td>2017</td>\n",
       "      <td>Miercoles</td>\n",
       "      <td>I</td>\n",
       "      <td>American Airlines</td>\n",
       "      <td>Santiago</td>\n",
       "      <td>Miami</td>\n",
       "      <td>2017-01-04</td>\n",
       "      <td>1</td>\n",
       "    </tr>\n",
       "    <tr>\n",
       "      <th>4</th>\n",
       "      <td>2017-01-05 23:30:00</td>\n",
       "      <td>226</td>\n",
       "      <td>SCEL</td>\n",
       "      <td>KMIA</td>\n",
       "      <td>AAL</td>\n",
       "      <td>2017-01-05 23:28:00</td>\n",
       "      <td>226</td>\n",
       "      <td>SCEL</td>\n",
       "      <td>KMIA</td>\n",
       "      <td>AAL</td>\n",
       "      <td>5</td>\n",
       "      <td>1</td>\n",
       "      <td>2017</td>\n",
       "      <td>Jueves</td>\n",
       "      <td>I</td>\n",
       "      <td>American Airlines</td>\n",
       "      <td>Santiago</td>\n",
       "      <td>Miami</td>\n",
       "      <td>2017-01-05</td>\n",
       "      <td>1</td>\n",
       "    </tr>\n",
       "  </tbody>\n",
       "</table>\n",
       "</div>"
      ],
      "text/plain": [
       "               Fecha-I Vlo-I Ori-I Des-I Emp-I              Fecha-O Vlo-O  \\\n",
       "0  2017-01-01 23:30:00   226  SCEL  KMIA   AAL  2017-01-01 23:33:00   226   \n",
       "1  2017-01-02 23:30:00   226  SCEL  KMIA   AAL  2017-01-02 23:39:00   226   \n",
       "2  2017-01-03 23:30:00   226  SCEL  KMIA   AAL  2017-01-03 23:39:00   226   \n",
       "3  2017-01-04 23:30:00   226  SCEL  KMIA   AAL  2017-01-04 23:33:00   226   \n",
       "4  2017-01-05 23:30:00   226  SCEL  KMIA   AAL  2017-01-05 23:28:00   226   \n",
       "\n",
       "  Ori-O Des-O Emp-O  DIA  MES   AÑO     DIANOM TIPOVUELO              OPERA  \\\n",
       "0  SCEL  KMIA   AAL    1    1  2017    Domingo         I  American Airlines   \n",
       "1  SCEL  KMIA   AAL    2    1  2017      Lunes         I  American Airlines   \n",
       "2  SCEL  KMIA   AAL    3    1  2017     Martes         I  American Airlines   \n",
       "3  SCEL  KMIA   AAL    4    1  2017  Miercoles         I  American Airlines   \n",
       "4  SCEL  KMIA   AAL    5    1  2017     Jueves         I  American Airlines   \n",
       "\n",
       "   SIGLAORI SIGLADES    fecha_d  one  \n",
       "0  Santiago    Miami 2017-01-01    1  \n",
       "1  Santiago    Miami 2017-01-02    1  \n",
       "2  Santiago    Miami 2017-01-03    1  \n",
       "3  Santiago    Miami 2017-01-04    1  \n",
       "4  Santiago    Miami 2017-01-05    1  "
      ]
     },
     "execution_count": 15,
     "metadata": {},
     "output_type": "execute_result"
    }
   ],
   "source": [
    "#Revisa el encabezado del df\n",
    "df.head()"
   ]
  },
  {
   "cell_type": "code",
   "execution_count": 4,
   "metadata": {},
   "outputs": [
    {
     "name": "stdout",
     "output_type": "stream",
     "text": [
      "<class 'pandas.core.frame.DataFrame'>\n",
      "RangeIndex: 68206 entries, 0 to 68205\n",
      "Data columns (total 18 columns):\n",
      " #   Column     Non-Null Count  Dtype \n",
      "---  ------     --------------  ----- \n",
      " 0   Fecha-I    68206 non-null  object\n",
      " 1   Vlo-I      68206 non-null  object\n",
      " 2   Ori-I      68206 non-null  object\n",
      " 3   Des-I      68206 non-null  object\n",
      " 4   Emp-I      68206 non-null  object\n",
      " 5   Fecha-O    68206 non-null  object\n",
      " 6   Vlo-O      68205 non-null  object\n",
      " 7   Ori-O      68206 non-null  object\n",
      " 8   Des-O      68206 non-null  object\n",
      " 9   Emp-O      68206 non-null  object\n",
      " 10  DIA        68206 non-null  int64 \n",
      " 11  MES        68206 non-null  int64 \n",
      " 12  AÑO        68206 non-null  int64 \n",
      " 13  DIANOM     68206 non-null  object\n",
      " 14  TIPOVUELO  68206 non-null  object\n",
      " 15  OPERA      68206 non-null  object\n",
      " 16  SIGLAORI   68206 non-null  object\n",
      " 17  SIGLADES   68206 non-null  object\n",
      "dtypes: int64(3), object(15)\n",
      "memory usage: 9.4+ MB\n",
      "None\n"
     ]
    }
   ],
   "source": [
    "#Se revisa la estructura de los datos y los missing\n",
    "print(df.info())"
   ]
  },
  {
   "cell_type": "code",
   "execution_count": 9,
   "metadata": {},
   "outputs": [
    {
     "data": {
      "text/html": [
       "<div>\n",
       "<style scoped>\n",
       "    .dataframe tbody tr th:only-of-type {\n",
       "        vertical-align: middle;\n",
       "    }\n",
       "\n",
       "    .dataframe tbody tr th {\n",
       "        vertical-align: top;\n",
       "    }\n",
       "\n",
       "    .dataframe thead th {\n",
       "        text-align: right;\n",
       "    }\n",
       "</style>\n",
       "<table border=\"1\" class=\"dataframe\">\n",
       "  <thead>\n",
       "    <tr style=\"text-align: right;\">\n",
       "      <th></th>\n",
       "      <th>Fecha-I</th>\n",
       "      <th>Vlo-I</th>\n",
       "      <th>Ori-I</th>\n",
       "      <th>Des-I</th>\n",
       "      <th>Emp-I</th>\n",
       "      <th>Fecha-O</th>\n",
       "      <th>Vlo-O</th>\n",
       "      <th>Ori-O</th>\n",
       "      <th>Des-O</th>\n",
       "      <th>Emp-O</th>\n",
       "      <th>DIA</th>\n",
       "      <th>MES</th>\n",
       "      <th>AÑO</th>\n",
       "      <th>DIANOM</th>\n",
       "      <th>TIPOVUELO</th>\n",
       "      <th>OPERA</th>\n",
       "      <th>SIGLAORI</th>\n",
       "      <th>SIGLADES</th>\n",
       "      <th>fecha_d</th>\n",
       "      <th>one</th>\n",
       "    </tr>\n",
       "  </thead>\n",
       "  <tbody>\n",
       "    <tr>\n",
       "      <th>6068</th>\n",
       "      <td>2017-01-19 11:00:00</td>\n",
       "      <td>200</td>\n",
       "      <td>SCEL</td>\n",
       "      <td>SPJC</td>\n",
       "      <td>LAW</td>\n",
       "      <td>2017-01-19 11:03:00</td>\n",
       "      <td>NaN</td>\n",
       "      <td>SCEL</td>\n",
       "      <td>SPJC</td>\n",
       "      <td>56R</td>\n",
       "      <td>19</td>\n",
       "      <td>1</td>\n",
       "      <td>2017</td>\n",
       "      <td>Jueves</td>\n",
       "      <td>I</td>\n",
       "      <td>Latin American Wings</td>\n",
       "      <td>Santiago</td>\n",
       "      <td>Lima</td>\n",
       "      <td>2017-01-19</td>\n",
       "      <td>1</td>\n",
       "    </tr>\n",
       "  </tbody>\n",
       "</table>\n",
       "</div>"
      ],
      "text/plain": [
       "                  Fecha-I Vlo-I Ori-I Des-I Emp-I              Fecha-O Vlo-O  \\\n",
       "6068  2017-01-19 11:00:00   200  SCEL  SPJC   LAW  2017-01-19 11:03:00   NaN   \n",
       "\n",
       "     Ori-O Des-O Emp-O  DIA  MES   AÑO  DIANOM TIPOVUELO  \\\n",
       "6068  SCEL  SPJC   56R   19    1  2017  Jueves         I   \n",
       "\n",
       "                     OPERA  SIGLAORI SIGLADES    fecha_d  one  \n",
       "6068  Latin American Wings  Santiago     Lima 2017-01-19    1  "
      ]
     },
     "execution_count": 9,
     "metadata": {},
     "output_type": "execute_result"
    }
   ],
   "source": [
    "#Se detecta un missing en la columa 'Vlo-O'.\n",
    "df[df['Vlo-O'].isna()]\n",
    "#No parece ser relevante para el análisis, por lo tanto no se imputa."
   ]
  },
  {
   "cell_type": "code",
   "execution_count": 16,
   "metadata": {},
   "outputs": [],
   "source": [
    "#Se convierten columnas a formato fecha\n",
    "df[\"Fecha-I\"] = pd.to_datetime(df[\"Fecha-I\"])\n",
    "df[\"Fecha-O\"] = pd.to_datetime(df[\"Fecha-O\"])"
   ]
  },
  {
   "cell_type": "markdown",
   "metadata": {},
   "source": [
    "##### 1. ¿Cómo se distribuyen los datos? ¿Qué te llama la atención o cuál es tu conclusión sobre esto?"
   ]
  },
  {
   "cell_type": "code",
   "execution_count": 14,
   "metadata": {},
   "outputs": [
    {
     "name": "stdout",
     "output_type": "stream",
     "text": [
      "            Vlo-O             \n",
      "TIPOVUELO       I            N\n",
      "AÑO          2017 2018    2017\n",
      "MES                           \n",
      "1          2802.0  2.0  3303.0\n",
      "2          2499.0  NaN  3062.0\n",
      "3          2496.0  NaN  2986.0\n",
      "4          2354.0  NaN  2666.0\n",
      "5          2428.0  NaN  2812.0\n",
      "6          2373.0  NaN  2608.0\n",
      "7          2865.0  NaN  3127.0\n",
      "8          2719.0  NaN  3025.0\n",
      "9          2605.0  NaN  3005.0\n",
      "10         2687.0  NaN  3345.0\n",
      "11         2610.0  NaN  3470.0\n",
      "12         2799.0  NaN  3557.0\n",
      "                   Fecha-I Vlo-I Ori-I Des-I Emp-I              Fecha-O  \\\n",
      "66918  2017-12-31 23:55:00   602  SCEL  KLAX   LAN  2018-01-01 00:02:00   \n",
      "66947  2017-12-31 23:40:00   622  SCEL  MMMX   LAN  2018-01-01 00:12:00   \n",
      "\n",
      "       Vlo-O Ori-O Des-O Emp-O  DIA  MES   AÑO DIANOM TIPOVUELO        OPERA  \\\n",
      "66918  602.0  SCEL  KLAX   LAN    1    1  2018  Lunes         I  Grupo LATAM   \n",
      "66947  622.0  SCEL  MMMX   LAN    1    1  2018  Lunes         I  Grupo LATAM   \n",
      "\n",
      "       SIGLAORI          SIGLADES    fecha_d  one  \n",
      "66918  Santiago       Los Angeles 2018-01-01    1  \n",
      "66947  Santiago  Ciudad de Mexico 2018-01-01    1  \n"
     ]
    },
    {
     "data": {
      "text/plain": [
       "[Text(0.5, 0, 'Día de la semana'), Text(0, 0.5, 'Número de vuelos')]"
      ]
     },
     "execution_count": 14,
     "metadata": {},
     "output_type": "execute_result"
    },
    {
     "data": {
      "image/png": "[encoded data removed]",
      "text/plain": [
       "<Figure size 864x720 with 4 Axes>"
      ]
     },
     "metadata": {
      "needs_background": "light"
     },
     "output_type": "display_data"
    }
   ],
   "source": [
    "#Distribución de los datos según año y mes\n",
    "print(pd.pivot_table(df, values = ['Vlo-O'], index = ['MES'], columns = ['TIPOVUELO','AÑO'], aggfunc = 'count'))\n",
    "#Existen solamente 2 datos del año 2018 para los vuelos internacionales. Seguramente corresponden a atrasos del 2017. Se verifica esta situación:\n",
    "print(df[df['AÑO']==2018])\n",
    "\n",
    "#Grafica distribución de vuelos durante el año\n",
    "#Genera variable fecha redondeando a nivel de día\n",
    "df['fecha_d'] = pd.to_datetime(dict(year = df.AÑO, month = df.MES, day = df.DIA))\n",
    "df['one'] = 1\n",
    "\n",
    "df_sum_d = df[['AÑO','MES','DIA','fecha_d','Vlo-O','TIPOVUELO']].groupby(['AÑO','MES','DIA','fecha_d','TIPOVUELO'], as_index=False).count()\n",
    "\n",
    "#Grafica distribución de vuelos en el tiempo y según tipo\n",
    "fig, ax = plt.subplots(2, 2, figsize=(12,10))\n",
    "fig.suptitle('Distribución de vuelos según tipo', fontsize=14)\n",
    "plt1 = sns.barplot(data=df, x='MES', y='one', hue='TIPOVUELO', estimator=sum, errorbar=None, ax = ax[0,0])\n",
    "plt1.set(xlabel='Mes', ylabel='Número de vuelos')\n",
    "plt2 = sns.scatterplot(data=df_sum_d, x='fecha_d', y='Vlo-O', hue='TIPOVUELO', ax = ax[0,1])\n",
    "plt2.set(xlabel='Día', ylabel='Número de vuelos')\n",
    "plt3 = sns.barplot(data=df, x='DIANOM', y='one', hue='TIPOVUELO', estimator=sum, order=['Lunes', 'Martes', 'Miercoles', 'Jueves', 'Viernes',\n",
    "    'Sabado', 'Domingo'], errorbar=None, ax = ax[1,0])\n",
    "plt3.set(xlabel='Día de la semana', ylabel='Número de vuelos')\n"
   ]
  },
  {
   "cell_type": "markdown",
   "metadata": {},
   "source": [
    "En los vuelos nacionales e internacionales el mayor número de vuelos está asociado al período de vacaciones de invierno y verano.\n",
    "\n",
    "El menor tráfico de febrero de la serie mensual se explica por la menor cantidad de días que tiene el mes, donde ajustando por el menor número de días se llega a 2,661 vuelos $(2/30 \\approx 6.5\\% \\rightarrow 2499*(1+6,5\\%) = 2,661)$. Esto es evidente de igual manera en el gráfico de vuelos por día, donde los vuelos diaros de febrero son comparables a los de enero. , aunque en los vuelos internacionales se modera el tráfico en febrero.\n",
    "\n",
    "En los vuelos nacionales, además, se observa una alta demanda en octubre y noviembre.\n",
    "\n",
    "En serie diaria llama la atención la discontinuidad que se genera en julio, tanto en la serie nacional como en la internacional, con el inicio de las vacaciones de invierno.\n",
    "\n",
    "En la distribución por día de la semana, es notable el menor número de vuelos los días sábados en el segmento nacional, mientras que el mayor número de vuelos se observa los días viernes, sábados y lunes, que se corresponde con la semana laboral.\n",
    "\n",
    "Podría ser informativo hacer otras segmentaciones, según hora del día, destino norte/sur (nacionales), continental/intercontinental (internacional). Sin embargo, un excesivo detalle iría más allá del objetivo de este challenge."
   ]
  },
  {
   "cell_type": "markdown",
   "metadata": {},
   "source": [
    "##### 2. Genera las columnas adicionales y luego expórtelas en un archivo `synthetic_features.csv` :\n",
    "* `temporada_alta` : 1 si Fecha-I está entre 15-Dic y 3-Mar, o 15-Jul y 31-Jul, o 11-Sep y 30-Sep, 0 si no.\n",
    "* `dif_min` : diferencia en minutos entre Fecha-O y Fecha-I .\n",
    "* `atraso_15` : 1 si dif_min > 15, 0 si no.\n",
    "* `periodo_dia` : mañana (entre 5:00 y 11:59), tarde (entre 12:00 y 18:59) y noche (entre 19:00 y 4:59), en base a\n",
    "Fecha-I ."
   ]
  },
  {
   "cell_type": "code",
   "execution_count": 20,
   "metadata": {},
   "outputs": [],
   "source": [
    "#Definimos 'temporada_alta'\n",
    "df['temporada_alta'] = 0\n",
    "df.loc[(df['Fecha-I'] >= '2016-12-15 00:00:00') & (df['Fecha-I'] < '2017-04-03 00:00:00'), 'temporada_alta'] = 1\n",
    "df.loc[(df['Fecha-I'] >= '2017-12-15 00:00:00') & (df['Fecha-I'] < '2018-04-03 00:00:00'), 'temporada_alta'] = 1\n",
    "df.loc[(df['Fecha-I'] >= '2017-07-15 00:00:00') & (df['Fecha-I'] < '2017-08-01 00:00:00'), 'temporada_alta'] = 1\n",
    "df.loc[(df['Fecha-I'] >= '2017-09-11 00:00:00') & (df['Fecha-I'] < '2017-10-01 00:00:00'), 'temporada_alta'] = 1"
   ]
  },
  {
   "cell_type": "code",
   "execution_count": 60,
   "metadata": {},
   "outputs": [],
   "source": [
    "#Definimos 'dif_min'\n",
    "df['dif_min'] = (df['Fecha-O'] - df['Fecha-I']).dt.total_seconds() / 60"
   ]
  },
  {
   "cell_type": "code",
   "execution_count": 31,
   "metadata": {},
   "outputs": [],
   "source": [
    "#Definimos 'atraso_15'\n",
    "df['atraso_15'] = 0\n",
    "df.loc[df['dif_min']>15, 'atraso_15'] = 1"
   ]
  },
  {
   "cell_type": "code",
   "execution_count": 37,
   "metadata": {},
   "outputs": [],
   "source": [
    "#Definimos 'periodo_dia'\n",
    "df.loc[(df['Fecha-I'].dt.hour>=5) & (df['Fecha-I'].dt.hour<12), 'periodo_dia'] = 'mañana'\n",
    "df.loc[(df['Fecha-I'].dt.hour>=12) & (df['Fecha-I'].dt.hour<19), 'periodo_dia'] = 'tarde'\n",
    "df.loc[df['periodo_dia'].isna(), 'periodo_dia'] = 'noche'"
   ]
  },
  {
   "cell_type": "code",
   "execution_count": 39,
   "metadata": {},
   "outputs": [],
   "source": [
    "#Genera archivo synthetic_features.csv\n",
    "df[['temporada_alta','dif_min','atraso_15','periodo_dia']].to_csv('synthetic_features.csv', index=False)"
   ]
  },
  {
   "cell_type": "code",
   "execution_count": null,
   "metadata": {},
   "outputs": [],
   "source": []
  }
 ],
 "metadata": {
  "kernelspec": {
   "display_name": "Python 3.10.5 64-bit",
   "language": "python",
   "name": "python3"
  },
  "language_info": {
   "codemirror_mode": {
    "name": "ipython",
    "version": 3
   },
   "file_extension": ".py",
   "mimetype": "text/x-python",
   "name": "python",
   "nbconvert_exporter": "python",
   "pygments_lexer": "ipython3",
   "version": "3.10.5"
  },
  "orig_nbformat": 4,
  "vscode": {
   "interpreter": {
    "hash": "e8763fdc6f9724af7306d5a2ddb053dcce3baf59a6aeceb224d3c6b0214aaba2"
   }
  }
 },
 "nbformat": 4,
 "nbformat_minor": 2
}
